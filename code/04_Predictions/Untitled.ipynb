{
 "cells": [
  {
   "cell_type": "code",
   "execution_count": 5,
   "id": "b5961054-ab99-48f7-8d17-b1015ed1f74b",
   "metadata": {},
   "outputs": [],
   "source": [
    "import pandas as pd"
   ]
  },
  {
   "cell_type": "code",
   "execution_count": 6,
   "id": "d7bf972a-a204-4acf-ac0b-2d241ae1dd1c",
   "metadata": {},
   "outputs": [
    {
     "data": {
      "text/plain": [
       "0    {'geomaster_name': 'Poland', 'geomaster_id': 1...\n",
       "1    {'geomaster_name': 'Romania', 'geomaster_id': ...\n",
       "2    {'geomaster_name': 'Republic of Moldova', 'geo...\n",
       "3    {'geomaster_name': 'Hungary', 'geomaster_id': ...\n",
       "4    {'geomaster_name': 'Slovakia', 'geomaster_id':...\n",
       "5    {'geomaster_name': 'Russian Federation', 'geom...\n",
       "6    {'geomaster_name': 'Belarus', 'geomaster_id': ...\n",
       "Name: data, dtype: object"
      ]
     },
     "execution_count": 6,
     "metadata": {},
     "output_type": "execute_result"
    }
   ],
   "source": [
    "url = 'https://data2.unhcr.org/population/get/sublocation?widget_id=286723&sv_id=54&population_group=5461&forcesublocation=0&fromDate=1900-01-01'\n",
    "df_uhcr = pd.read_json(url)\n",
    "df_uhcr['data']"
   ]
  },
  {
   "cell_type": "code",
   "execution_count": 8,
   "id": "7ee189d7-d8a3-4c98-bcb0-e9f28aa75dcc",
   "metadata": {},
   "outputs": [
    {
     "data": {
      "text/plain": [
       "'2083854'"
      ]
     },
     "execution_count": 8,
     "metadata": {},
     "output_type": "execute_result"
    }
   ],
   "source": [
    "df_uhcr['data'][0]['individuals']"
   ]
  },
  {
   "cell_type": "code",
   "execution_count": 9,
   "id": "8f53bc4f-4a3c-4c3d-b6bb-20f96c96c2a7",
   "metadata": {},
   "outputs": [
    {
     "data": {
      "text/plain": [
       "'535461'"
      ]
     },
     "execution_count": 9,
     "metadata": {},
     "output_type": "execute_result"
    }
   ],
   "source": [
    "df_uhcr['data'][1]['individuals']"
   ]
  },
  {
   "cell_type": "code",
   "execution_count": null,
   "id": "9111a22b-affe-4785-ae09-b7cce7872063",
   "metadata": {},
   "outputs": [],
   "source": []
  }
 ],
 "metadata": {
  "kernelspec": {
   "display_name": "Python 3 (ipykernel)",
   "language": "python",
   "name": "python3"
  },
  "language_info": {
   "codemirror_mode": {
    "name": "ipython",
    "version": 3
   },
   "file_extension": ".py",
   "mimetype": "text/x-python",
   "name": "python",
   "nbconvert_exporter": "python",
   "pygments_lexer": "ipython3",
   "version": "3.9.7"
  }
 },
 "nbformat": 4,
 "nbformat_minor": 5
}
