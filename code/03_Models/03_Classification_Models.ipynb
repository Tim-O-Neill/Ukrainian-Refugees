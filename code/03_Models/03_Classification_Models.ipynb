{
 "cells": [
  {
   "cell_type": "markdown",
   "id": "7a86977f-5784-4cd6-a357-988c4712f25a",
   "metadata": {},
   "source": [
    "# Classification Models: \n",
    "### Looking to Classify the Financial Impact on Countries that take in Refugees\n",
    "---\n",
    "Imports"
   ]
  },
  {
   "cell_type": "code",
   "execution_count": 4,
   "id": "de41b30c-2244-4f71-96ac-6d05d2230bcf",
   "metadata": {},
   "outputs": [],
   "source": [
    "import pandas as pd\n",
    "import numpy as np\n",
    "import matplotlib.pyplot as plt\n",
    "import seaborn as sns\n",
    "import sklearn.metrics as metrics\n",
    "\n",
    "from sklearn.model_selection import train_test_split, cross_val_score, GridSearchCV, RandomizedSearchCV\n",
    "\n",
    "from sklearn.pipeline import Pipeline\n",
    "from sklearn.preprocessing import StandardScaler\n",
    "\n",
    "from sklearn.metrics import plot_confusion_matrix, mean_squared_error, f1_score, confusion_matrix\n",
    "from sklearn.ensemble import RandomForestClassifier, AdaBoostClassifier, BaggingClassifier\n",
    "from sklearn.tree import DecisionTreeClassifier\n",
    "from sklearn.neighbors import KNeighborsClassifier\n",
    "from sklearn.linear_model import LogisticRegression\n",
    "from sklearn.decomposition import PCA"
   ]
  },
  {
   "cell_type": "code",
   "execution_count": 3,
   "id": "289d4888-6b38-4e60-8787-0feaf6bb6989",
   "metadata": {},
   "outputs": [],
   "source": [
    "pd.options.display.max_columns = 999\n",
    "pd.options.display.max_rows = 999"
   ]
  },
  {
   "cell_type": "markdown",
   "id": "588b6e23-2654-4d35-bb51-6bcedcba9670",
   "metadata": {},
   "source": [
    "## Classification Pipelines\n",
    "---"
   ]
  },
  {
   "cell_type": "code",
   "execution_count": null,
   "id": "483000cf-cb10-4949-8574-ef0078ab9ada",
   "metadata": {},
   "outputs": [],
   "source": [
    "pipelines = [\n",
    "    ('LOGREG', (Pipeline([ ('LR', LogisticRegression(max_iter=1000, random_state=42))]))),\n",
    "    ('DECISION TREE', (Pipeline([ ('TREE', DecisionTreeClassifier())]))),\n",
    "    ('BAGGED TREE', (Pipeline([ ('BAG', BaggingClassifier())]))),\n",
    "    ('RANDOM FOREST', (Pipeline([ ('RAND', RandomForestClassifier())]))),\n",
    "    ('ADABOOST', (Pipeline([ ('ADA', AdaBoostClassifier())]))),\n",
    "    ('KNN', (Pipeline([ ('sc', StandardScaler()),('KNN', KNeighborsClassifier())]))),\n",
    "]\n",
    "\n",
    "# X_train, X_test, y_train, y_test = train_test_split(X, y, stratify = y, random_state=42)\n",
    "for pipe_name ,model in pipelines:\n",
    "\n",
    "    print(pipe_name)\n",
    "    model.fit(Z_train, y_train)\n",
    "    trainscore = model.score(Z_train, y_train)\n",
    "    testscore = model.score(Z_test, y_test)\n",
    "    crossval = cross_val_score(model, Z_train, y_train).mean()\n",
    "    y_pred_train = model.predict(Z_train)\n",
    "    y_pred_test = model.predict(Z_test)\n",
    "    \n",
    "    f1_train = metrics.f1_score(y_train, y_pred_train)\n",
    "    f1_test = metrics.f1_score(y_test, y_pred_test)\n",
    "    \n",
    "    #cf_matrix = plot_confusion_matrix(estimator = model, X = X_test, y_true = y_test)\n",
    "    cm = confusion_matrix(y_test, y_pred_test, labels=model.classes_)\n",
    "    disp = metrics.ConfusionMatrixDisplay(confusion_matrix=cm,\n",
    "                                  display_labels=model.classes_)\n",
    "    plt.title(pipe_name)\n",
    "    disp.plot()\n",
    "\n",
    "    print(f'Train: {trainscore}, Test: {testscore}, CV: {crossval}')\n",
    "    print (f'f1 - Train = {f1_train}')\n",
    "    print (f'f1 - Test = {f1_test}')\n",
    "    print (' ')\n",
    "    print (' ')"
   ]
  },
  {
   "cell_type": "code",
   "execution_count": null,
   "id": "380f75e4-d608-4319-9ea1-cf5b5f851255",
   "metadata": {},
   "outputs": [],
   "source": []
  },
  {
   "cell_type": "markdown",
   "id": "05791885-ece5-4cdf-ba7c-c5e77dde7ddd",
   "metadata": {},
   "source": [
    "## Stacking\n",
    "---"
   ]
  },
  {
   "cell_type": "code",
   "execution_count": null,
   "id": "5969e133-4685-4034-a621-400ba11d1781",
   "metadata": {},
   "outputs": [],
   "source": [
    "level1_models = [\n",
    "    ('GRAD', GradientBoostingClassifier()),\n",
    "    ('ADA', AdaBoostClassifier()),\n",
    "    ('LR', LinearRegression())\n",
    "]\n",
    "\n",
    "\n",
    "stack = StackingClassifier(estimators = level1_models, final_estimator = LinearRegression())\n",
    "\n",
    "\n",
    "stack.fit(X_train, y_train)\n",
    "trainscore = stack.score(X_train, y_train)\n",
    "testscore = stack.score(X_test, y_test)\n",
    "crossval = cross_val_score(stack, X_train, y_train).mean()\n",
    "y_pred_train = stack.predict(X_train)\n",
    "y_pred_test = stack.predict(X_test)\n",
    "mse_train = metrics.mean_squared_error(y_train, y_pred_train)\n",
    "mse_test = metrics.mean_absolute_error(y_test, y_pred_test)\n",
    "\n",
    "\n",
    "print(f'Train: {trainscore}, Test: {testscore}, CV: {crossval}')\n",
    "print (f'Mean Squared Error - Train = {mse_train}')\n",
    "print (f'Mean Squared Error - Test = {mse_test}')"
   ]
  }
 ],
 "metadata": {
  "kernelspec": {
   "display_name": "Python 3 (ipykernel)",
   "language": "python",
   "name": "python3"
  },
  "language_info": {
   "codemirror_mode": {
    "name": "ipython",
    "version": 3
   },
   "file_extension": ".py",
   "mimetype": "text/x-python",
   "name": "python",
   "nbconvert_exporter": "python",
   "pygments_lexer": "ipython3",
   "version": "3.9.7"
  }
 },
 "nbformat": 4,
 "nbformat_minor": 5
}
