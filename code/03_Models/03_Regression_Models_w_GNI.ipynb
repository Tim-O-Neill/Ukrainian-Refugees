{
 "cells": [
  {
   "cell_type": "markdown",
   "id": "4e51cbbc-8a7a-4249-9786-63a913187669",
   "metadata": {},
   "source": [
    "# Regression Models: Including GNI Growth \n",
    "### Predicting GDP Annual Change.\n",
    "---\n",
    "Imports"
   ]
  },
  {
   "cell_type": "code",
   "execution_count": 1,
   "id": "7c6aaf67-8e85-4fa3-a4e6-ac75073f2604",
   "metadata": {},
   "outputs": [],
   "source": [
    "import pandas as pd\n",
    "import numpy as np\n",
    "import matplotlib.pyplot as plt\n",
    "import seaborn as sns\n",
    "import sklearn.metrics as metrics\n",
    "\n",
    "from sklearn.model_selection import train_test_split, cross_val_score, GridSearchCV, RandomizedSearchCV\n",
    "\n",
    "from sklearn.pipeline import Pipeline\n",
    "from sklearn.neighbors import KNeighborsRegressor\n",
    "from sklearn.preprocessing import StandardScaler, PolynomialFeatures\n",
    "\n",
    "from sklearn.linear_model import LinearRegression, Lasso, LassoCV, Ridge, RidgeCV\n",
    "from sklearn.ensemble import AdaBoostRegressor, RandomForestRegressor, BaggingRegressor\n",
    "from sklearn.tree import DecisionTreeRegressor\n",
    "from sklearn.decomposition import PCA"
   ]
  },
  {
   "cell_type": "code",
   "execution_count": 2,
   "id": "f69e6a2c-3d12-46be-b676-4e15cefd777d",
   "metadata": {},
   "outputs": [],
   "source": [
    "pd.options.display.max_columns = 999\n",
    "pd.options.display.max_rows = 999"
   ]
  },
  {
   "cell_type": "markdown",
   "id": "d960f643-d231-4060-8dd9-2b6954eed12f",
   "metadata": {},
   "source": [
    "Read in Data"
   ]
  },
  {
   "cell_type": "code",
   "execution_count": 3,
   "id": "f41c5540-6e57-41d6-a3fd-f7cc897853bb",
   "metadata": {},
   "outputs": [],
   "source": [
    "df = pd.read_csv('../../data/data_feat_engin.csv')"
   ]
  },
  {
   "cell_type": "markdown",
   "id": "43e368d0-d08f-4fb7-bfda-5e62cedaf32e",
   "metadata": {},
   "source": [
    "Look at columns for features."
   ]
  },
  {
   "cell_type": "code",
   "execution_count": 4,
   "id": "dae6bc35-3627-4670-9240-fdecdc477cbb",
   "metadata": {},
   "outputs": [
    {
     "data": {
      "text/plain": [
       "Index(['Year', 'Country', 'Refugees under UNHCR's mandate', 'Asylum-seekers',\n",
       "       'IDPs of concern to UNHCR', 'Stateless persons', 'Others of concern',\n",
       "       'Ref and Asyl', 'SUM REFUGEE', 'GDP_annual_change',\n",
       "       'Adjusted savings: net national savings (current US$)',\n",
       "       'Adjusted savings: particulate emission damage (current US$)',\n",
       "       'Adolescent fertility rate (births per 1,000 women ages 15-19)',\n",
       "       'Air transport, passengers carried',\n",
       "       'Current health expenditure (% of GDP)',\n",
       "       'Current health expenditure per capita (current US$)',\n",
       "       'Death rate, crude (per 1,000 people)',\n",
       "       'Domestic general government health expenditure per capita (current US$)',\n",
       "       'Domestic private health expenditure per capita (current US$)',\n",
       "       'Ease of doing business score (0 = lowest performance to 100 = best performance)',\n",
       "       'Fixed broadband subscriptions (per 100 people)',\n",
       "       'Fixed telephone subscriptions (per 100 people)',\n",
       "       'GNI growth (annual %)',\n",
       "       'International tourism, expenditures (current US$)',\n",
       "       'International tourism, receipts (current US$)',\n",
       "       'Military expenditure (current USD)', 'Population growth (annual %)',\n",
       "       'Prevalence of undernourishment (% of population)',\n",
       "       'Refugee population by country or territory of asylum',\n",
       "       'Strength of legal rights index (0=weak to 12=strong)',\n",
       "       'Unemployment, total (% of total labor force) (modeled ILO estimate)',\n",
       "       'Net official flows from UN agencies: Total', 'Country / Economy',\n",
       "       'Region', 'Income',\n",
       "       'Intl tourism expenditures recipts and asylum seekers',\n",
       "       'Intl tourism expenditures receipts and military',\n",
       "       'net inflows UN and refugee pop', 'SUM REFUGEE and undernourishment'],\n",
       "      dtype='object')"
      ]
     },
     "execution_count": 4,
     "metadata": {},
     "output_type": "execute_result"
    }
   ],
   "source": [
    "df.columns"
   ]
  },
  {
   "cell_type": "markdown",
   "id": "d486507f-7fc8-4b8c-8209-0fb6e81e650d",
   "metadata": {},
   "source": [
    "## Null Model - GDP Annual Change\n",
    "---"
   ]
  },
  {
   "cell_type": "code",
   "execution_count": 5,
   "id": "9da7615b-e307-44dd-a7c2-669f7169db44",
   "metadata": {},
   "outputs": [
    {
     "data": {
      "text/plain": [
       "2.4666729263695077"
      ]
     },
     "execution_count": 5,
     "metadata": {},
     "output_type": "execute_result"
    }
   ],
   "source": [
    "df['base'] = df['GDP_annual_change'].mean()\n",
    "RMSE = np.sqrt(metrics.mean_squared_error(df['GDP_annual_change'], df['base']))\n",
    "RMSE"
   ]
  },
  {
   "cell_type": "markdown",
   "id": "71596b8e-9e26-46c8-b049-e82c7fd10b2b",
   "metadata": {},
   "source": [
    "The Baseline model has a Root Mean Squared Error of 2.47%. On average the predicted GDP Annual Change is about \\\\2.47% off from the true sales price."
   ]
  },
  {
   "cell_type": "markdown",
   "id": "084953a5-3a6d-4228-8420-c5c53df389e5",
   "metadata": {},
   "source": [
    "## Regression Pipelines\n",
    "---\n",
    "Will first look at all columns, not including feature engineering, and feed into a function for the various regression models. Interpretability will be important with this project, so it will be necessary to keep that in mind as a model is chosen to move forward."
   ]
  },
  {
   "cell_type": "code",
   "execution_count": 6,
   "id": "fff8eff4-9419-44e2-82b0-b41c7471a3b8",
   "metadata": {},
   "outputs": [],
   "source": [
    "features = [\"Refugees under UNHCR's mandate\", \n",
    "            'Asylum-seekers',\n",
    "            'IDPs of concern to UNHCR', \n",
    "            'Stateless persons', \n",
    "            'Others of concern',\n",
    "            'Ref and Asyl', \n",
    "            'SUM REFUGEE',\n",
    "            'Adjusted savings: net national savings (current US$)',\n",
    "            'Adjusted savings: particulate emission damage (current US$)',\n",
    "            'Adolescent fertility rate (births per 1,000 women ages 15-19)',\n",
    "            'Air transport, passengers carried',\n",
    "            'Current health expenditure (% of GDP)',\n",
    "            'Current health expenditure per capita (current US$)',\n",
    "            'Death rate, crude (per 1,000 people)',\n",
    "            'Domestic general government health expenditure per capita (current US$)',\n",
    "            'Domestic private health expenditure per capita (current US$)',\n",
    "            'Ease of doing business score (0 = lowest performance to 100 = best performance)',\n",
    "            'Fixed broadband subscriptions (per 100 people)',\n",
    "            'Fixed telephone subscriptions (per 100 people)',\n",
    "            'GNI growth (annual %)',\n",
    "            'International tourism, expenditures (current US$)',\n",
    "            'International tourism, receipts (current US$)',\n",
    "            'Military expenditure (current USD)', 'Population growth (annual %)',\n",
    "            'Prevalence of undernourishment (% of population)',\n",
    "            'Refugee population by country or territory of asylum',\n",
    "            'Strength of legal rights index (0=weak to 12=strong)',\n",
    "            'Unemployment, total (% of total labor force) (modeled ILO estimate)',\n",
    "            'Net official flows from UN agencies: Total'\n",
    "           ]"
   ]
  },
  {
   "cell_type": "code",
   "execution_count": 7,
   "id": "0d9ff379-a162-4857-bf42-f58980faa56c",
   "metadata": {
    "tags": []
   },
   "outputs": [],
   "source": [
    "X = df[features]\n",
    "y = df['GDP_annual_change']"
   ]
  },
  {
   "cell_type": "code",
   "execution_count": 8,
   "id": "28ff2f42-d04f-46ea-a97d-ecf57047b8a0",
   "metadata": {},
   "outputs": [],
   "source": [
    "def modelfunc(X, y):\n",
    "    pipelines = [\n",
    "        ('LINEAR REGRESSION', (Pipeline([ ('LR', LinearRegression())]))),\n",
    "        ('DECISION TREE', (Pipeline([ ('TREE', DecisionTreeRegressor())]))),\n",
    "        ('BAGGED TREE', (Pipeline([ ('BAG', BaggingRegressor())]))),\n",
    "        ('RANDOM FOREST', (Pipeline([ ('RAND', RandomForestRegressor())]))),\n",
    "        ('ADABOOST', (Pipeline([ ('ADA', AdaBoostRegressor())]))),\n",
    "        ('KNN', (Pipeline([ ('sc', StandardScaler()),('KNN', KNeighborsRegressor())]))),\n",
    "        ('LASSO',(Pipeline([ ('sc', StandardScaler()),('LASSO', LassoCV())]))),\n",
    "        ('RIDGE',(Pipeline([ ('sc', StandardScaler()),('RIDGE', RidgeCV())])))\n",
    "    ]\n",
    "    X_train, X_test, y_train, y_test = train_test_split(X, y, random_state = 42) \n",
    "    for pipe_name ,model in pipelines:\n",
    "        print(pipe_name)\n",
    "        model.fit(X_train, y_train)\n",
    "        y_pred_train = model.predict(X_train)\n",
    "        y_pred_test = model.predict(X_test)\n",
    "        trainscore = model.score(X_train, y_train)\n",
    "        testscore = model.score(X_test, y_test)\n",
    "        crossval = cross_val_score(model, X_train, y_train).mean()\n",
    "        rmsetr= np.sqrt(metrics.mean_squared_error(y_train, y_pred_train))\n",
    "        rmsete = np.sqrt(metrics.mean_squared_error(y_test, y_pred_test))\n",
    "        print (f'Model = {model}')\n",
    "        print (f'Train Score = {trainscore}')\n",
    "        print (f'Test Score = {testscore}')\n",
    "        print (f'Cross Val Score = {crossval}')\n",
    "        print (f'RMSE Train = {rmsetr}')\n",
    "        print (f'RMSE Test = {rmsete}')\n",
    "        print('')\n",
    "        print('')"
   ]
  },
  {
   "cell_type": "code",
   "execution_count": 9,
   "id": "1b1873f2-356a-4bc3-bd7d-ddaa1eba1e19",
   "metadata": {},
   "outputs": [
    {
     "name": "stdout",
     "output_type": "stream",
     "text": [
      "LINEAR REGRESSION\n",
      "Model = Pipeline(steps=[('LR', LinearRegression())])\n",
      "Train Score = 0.5864932870893846\n",
      "Test Score = 0.5405411536312755\n",
      "Cross Val Score = 0.4415850218848201\n",
      "RMSE Train = 1.5023256407333925\n",
      "RMSE Test = 1.911523268170177\n",
      "\n",
      "\n",
      "DECISION TREE\n",
      "Model = Pipeline(steps=[('TREE', DecisionTreeRegressor())])\n",
      "Train Score = 1.0\n",
      "Test Score = 0.42204991778503564\n",
      "Cross Val Score = 0.0946434028214741\n",
      "RMSE Train = 8.176345093409794e-17\n",
      "RMSE Test = 2.1438847986573335\n",
      "\n",
      "\n",
      "BAGGED TREE\n",
      "Model = Pipeline(steps=[('BAG', BaggingRegressor())])\n",
      "Train Score = 0.9333911621254156\n",
      "Test Score = 0.5718123502182983\n",
      "Cross Val Score = 0.5536576607971864\n",
      "RMSE Train = 0.6029603102055351\n",
      "RMSE Test = 1.8453270517097586\n",
      "\n",
      "\n",
      "RANDOM FOREST\n",
      "Model = Pipeline(steps=[('RAND', RandomForestRegressor())])\n",
      "Train Score = 0.9519584033550006\n",
      "Test Score = 0.5981168993497186\n",
      "Cross Val Score = 0.5923136042042156\n",
      "RMSE Train = 0.5120725711002893\n",
      "RMSE Test = 1.7877473877710552\n",
      "\n",
      "\n",
      "ADABOOST\n",
      "Model = Pipeline(steps=[('ADA', AdaBoostRegressor())])\n",
      "Train Score = 0.7534225388613442\n",
      "Test Score = 0.480387950495615\n",
      "Cross Val Score = 0.4732636531249512\n",
      "RMSE Train = 1.1601108423316224\n",
      "RMSE Test = 2.032805779299282\n",
      "\n",
      "\n",
      "KNN\n",
      "Model = Pipeline(steps=[('sc', StandardScaler()), ('KNN', KNeighborsRegressor())])\n",
      "Train Score = 0.69176237904781\n",
      "Test Score = 0.4896110858167567\n",
      "Cross Val Score = 0.42005673221049034\n",
      "RMSE Train = 1.297076584883258\n",
      "RMSE Test = 2.014683809585966\n",
      "\n",
      "\n",
      "LASSO\n",
      "Model = Pipeline(steps=[('sc', StandardScaler()), ('LASSO', LassoCV())])\n",
      "Train Score = 0.571160991171207\n",
      "Test Score = 0.5415490458317838\n",
      "Cross Val Score = 0.4924121433147578\n",
      "RMSE Train = 1.5299242878179564\n",
      "RMSE Test = 1.909425509964218\n",
      "\n",
      "\n",
      "RIDGE\n",
      "Model = Pipeline(steps=[('sc', StandardScaler()),\n",
      "                ('RIDGE', RidgeCV(alphas=array([ 0.1,  1. , 10. ])))])\n",
      "Train Score = 0.5858608133079607\n",
      "Test Score = 0.5376078092336831\n",
      "Cross Val Score = 0.4694113343114861\n",
      "RMSE Train = 1.503474132997751\n",
      "RMSE Test = 1.917615473230679\n",
      "\n",
      "\n"
     ]
    }
   ],
   "source": [
    "modelfunc(X, y)"
   ]
  },
  {
   "cell_type": "markdown",
   "id": "24bea2d5-79ef-4d9e-b4cf-68c9221a1ace",
   "metadata": {},
   "source": [
    "### Random Forest performed the best according to the function above. Dig into it with some tuning below."
   ]
  },
  {
   "cell_type": "code",
   "execution_count": 10,
   "id": "1191e12e-d621-4a62-8bca-25120112e278",
   "metadata": {},
   "outputs": [
    {
     "name": "stdout",
     "output_type": "stream",
     "text": [
      "Fitting 5 folds for each of 60 candidates, totalling 300 fits\n",
      "0.5900629188375082\n",
      "{'max_depth': None, 'max_features': 'auto', 'n_estimators': 125}\n"
     ]
    }
   ],
   "source": [
    "X_train, X_test, y_train, y_test = train_test_split(X, y, random_state = 42) \n",
    "\n",
    "rand = RandomForestRegressor()\n",
    "# rand.fit(X_train, y_train)\n",
    "\n",
    "params = {\n",
    "    'n_estimators': [75, 100, 125],\n",
    "    'max_depth': [None, 3, 4, 5], \n",
    "    'max_features': ['auto', 'sqrt', 3, 4, 5]\n",
    "}\n",
    "gs = GridSearchCV(RandomForestRegressor(), \n",
    "                 param_grid = params, \n",
    "                 verbose = 1)\n",
    "\n",
    "gs.fit(X_train, y_train)\n",
    "print(gs.best_score_)\n",
    "print(gs.best_params_)\n",
    "\n"
   ]
  },
  {
   "cell_type": "markdown",
   "id": "3a65856a-d5d2-4a43-818c-440d78c91403",
   "metadata": {},
   "source": [
    "## Below Changing features and running through the same function.\n",
    "---\n",
    "Adding engineered features."
   ]
  },
  {
   "cell_type": "code",
   "execution_count": 11,
   "id": "6a92d9ed-5b4c-4195-a8a7-2f8d44e3d7aa",
   "metadata": {},
   "outputs": [],
   "source": [
    "features = [\"Refugees under UNHCR's mandate\", \n",
    "            'Asylum-seekers',\n",
    "            'IDPs of concern to UNHCR', \n",
    "            'Stateless persons', \n",
    "            'Others of concern',\n",
    "            'Ref and Asyl', \n",
    "            'SUM REFUGEE',\n",
    "            'Adjusted savings: net national savings (current US$)',\n",
    "            'Adjusted savings: particulate emission damage (current US$)',\n",
    "            'Adolescent fertility rate (births per 1,000 women ages 15-19)',\n",
    "            'Air transport, passengers carried',\n",
    "            'Current health expenditure (% of GDP)',\n",
    "            'Current health expenditure per capita (current US$)',\n",
    "            'Death rate, crude (per 1,000 people)',\n",
    "            'Domestic general government health expenditure per capita (current US$)',\n",
    "            'Domestic private health expenditure per capita (current US$)',\n",
    "            'Ease of doing business score (0 = lowest performance to 100 = best performance)',\n",
    "            'Fixed broadband subscriptions (per 100 people)',\n",
    "            'Fixed telephone subscriptions (per 100 people)',\n",
    "            'GNI growth (annual %)',\n",
    "            'International tourism, expenditures (current US$)',\n",
    "            'International tourism, receipts (current US$)',\n",
    "            'Military expenditure (current USD)', 'Population growth (annual %)',\n",
    "            'Prevalence of undernourishment (% of population)',\n",
    "            'Refugee population by country or territory of asylum',\n",
    "            'Strength of legal rights index (0=weak to 12=strong)',\n",
    "            'Unemployment, total (% of total labor force) (modeled ILO estimate)',\n",
    "            'Net official flows from UN agencies: Total', \n",
    "            'Intl tourism expenditures recipts and asylum seekers', \n",
    "            'Intl tourism expenditures receipts and military',\n",
    "            'net inflows UN and refugee pop', \n",
    "            'SUM REFUGEE and undernourishment'\n",
    "           ]"
   ]
  },
  {
   "cell_type": "code",
   "execution_count": 12,
   "id": "7e2c5326-5037-40d0-a776-8d66fbb0797b",
   "metadata": {
    "tags": []
   },
   "outputs": [],
   "source": [
    "X = df[features]\n",
    "y = df['GDP_annual_change']"
   ]
  },
  {
   "cell_type": "code",
   "execution_count": 13,
   "id": "a7caeca9-bb0e-420e-9309-78e6e93fd434",
   "metadata": {},
   "outputs": [
    {
     "name": "stdout",
     "output_type": "stream",
     "text": [
      "LINEAR REGRESSION\n",
      "Model = Pipeline(steps=[('LR', LinearRegression())])\n",
      "Train Score = 0.002557638906477644\n",
      "Test Score = -0.017215223763378917\n",
      "Cross Val Score = -0.009983658394374938\n",
      "RMSE Train = 2.3332791579773127\n",
      "RMSE Test = 2.844216854015721\n",
      "\n",
      "\n",
      "DECISION TREE\n",
      "Model = Pipeline(steps=[('TREE', DecisionTreeRegressor())])\n",
      "Train Score = 1.0\n",
      "Test Score = 0.41828626039884587\n",
      "Cross Val Score = 0.3030629335927799\n",
      "RMSE Train = 8.176345093409794e-17\n",
      "RMSE Test = 2.150854046052494\n",
      "\n",
      "\n",
      "BAGGED TREE\n",
      "Model = Pipeline(steps=[('BAG', BaggingRegressor())])\n",
      "Train Score = 0.9441729950314\n",
      "Test Score = 0.5870461104638071\n",
      "Cross Val Score = 0.613013236615706\n",
      "RMSE Train = 0.5520074791603531\n",
      "RMSE Test = 1.8122038990449512\n",
      "\n",
      "\n",
      "RANDOM FOREST\n",
      "Model = Pipeline(steps=[('RAND', RandomForestRegressor())])\n",
      "Train Score = 0.9499189252072778\n",
      "Test Score = 0.5874563887333714\n",
      "Cross Val Score = 0.5791450287817088\n",
      "RMSE Train = 0.5228289385724026\n",
      "RMSE Test = 1.8113034442204914\n",
      "\n",
      "\n",
      "ADABOOST\n",
      "Model = Pipeline(steps=[('ADA', AdaBoostRegressor())])\n",
      "Train Score = 0.6853168933302194\n",
      "Test Score = 0.41964248743877997\n",
      "Cross Val Score = 0.4814958378776903\n",
      "RMSE Train = 1.3105678560451948\n",
      "RMSE Test = 2.1483452961060063\n",
      "\n",
      "\n",
      "KNN\n",
      "Model = Pipeline(steps=[('sc', StandardScaler()), ('KNN', KNeighborsRegressor())])\n",
      "Train Score = 0.6650312735998563\n",
      "Test Score = 0.48596648078308424\n",
      "Cross Val Score = 0.3757610211729623\n",
      "RMSE Train = 1.3521501740891602\n",
      "RMSE Test = 2.021864280043906\n",
      "\n",
      "\n",
      "LASSO\n",
      "Model = Pipeline(steps=[('sc', StandardScaler()), ('LASSO', LassoCV())])\n",
      "Train Score = 0.5688394143724318\n",
      "Test Score = 0.5432205767738111\n",
      "Cross Val Score = 0.48942036471427636\n",
      "RMSE Train = 1.5340599221012121\n",
      "RMSE Test = 1.905941409492514\n",
      "\n",
      "\n",
      "RIDGE\n",
      "Model = Pipeline(steps=[('sc', StandardScaler()),\n",
      "                ('RIDGE', RidgeCV(alphas=array([ 0.1,  1. , 10. ])))])\n",
      "Train Score = 0.5880836554270774\n",
      "Test Score = 0.5354004400159624\n",
      "Cross Val Score = 0.4534477779613283\n",
      "RMSE Train = 1.4994338462573735\n",
      "RMSE Test = 1.9221871828458255\n",
      "\n",
      "\n"
     ]
    }
   ],
   "source": [
    "modelfunc(X, y)"
   ]
  },
  {
   "cell_type": "markdown",
   "id": "d8aaf863-18c5-4266-b371-a6f28bc3eb0d",
   "metadata": {},
   "source": [
    "Again, the Random Forest is performing the best. "
   ]
  },
  {
   "cell_type": "code",
   "execution_count": null,
   "id": "2ac0fabd-d9c7-4380-aea3-1785da582d1a",
   "metadata": {},
   "outputs": [],
   "source": []
  },
  {
   "cell_type": "code",
   "execution_count": null,
   "id": "f9265a62-9394-470b-a771-eae0ee6b0aa8",
   "metadata": {},
   "outputs": [],
   "source": []
  },
  {
   "cell_type": "markdown",
   "id": "b4a32666-4260-4ce0-9e9d-0ae3eb37c80a",
   "metadata": {},
   "source": [
    "## Changing Features again to look at those with the highest correlation.\n",
    "---"
   ]
  },
  {
   "cell_type": "code",
   "execution_count": 14,
   "id": "f6d90fbb-c2d4-498f-8707-c8d2682ca54d",
   "metadata": {},
   "outputs": [],
   "source": [
    "features = ['GNI growth (annual %)', \n",
    "            'Stateless persons',\n",
    "            'Strength of legal rights index (0=weak to 12=strong)',\n",
    "            'Adjusted savings: net national savings (current US$)',\n",
    "            'Adjusted savings: particulate emission damage (current US$)',\n",
    "            'Adolescent fertility rate (births per 1,000 women ages 15-19)',\n",
    "            'Population growth (annual %)', \n",
    "            'Unemployment, total (% of total labor force) (modeled ILO estimate)',\n",
    "            'Fixed telephone subscriptions (per 100 people)',\n",
    "            'Current health expenditure (% of GDP)',\n",
    "            'Current health expenditure per capita (current US$)',\n",
    "            'Domestic general government health expenditure per capita (current US$)',\n",
    "            'Fixed broadband subscriptions (per 100 people)',\n",
    "            'Domestic private health expenditure per capita (current US$)',\n",
    "            'International tourism, expenditures (current US$)',\n",
    "            \"Refugees under UNHCR's mandate\", \n",
    "            'Asylum-seekers',\n",
    "            'IDPs of concern to UNHCR', \n",
    "            'Others of concern',\n",
    "            'Ref and Asyl', \n",
    "            'SUM REFUGEE',\n",
    "            'Intl tourism expenditures recipts and asylum seekers', \n",
    "            'Intl tourism expenditures receipts and military',\n",
    "            'net inflows UN and refugee pop', \n",
    "            'SUM REFUGEE and undernourishment'\n",
    "           ]"
   ]
  },
  {
   "cell_type": "code",
   "execution_count": 15,
   "id": "f66619bb-d53d-4cfc-acd2-813440874ce7",
   "metadata": {},
   "outputs": [],
   "source": [
    "X = df[features]\n",
    "y = df['GDP_annual_change']"
   ]
  },
  {
   "cell_type": "code",
   "execution_count": 16,
   "id": "c5c3f816-39a0-4658-9c17-82e9a53653c6",
   "metadata": {},
   "outputs": [
    {
     "name": "stdout",
     "output_type": "stream",
     "text": [
      "LINEAR REGRESSION\n",
      "Model = Pipeline(steps=[('LR', LinearRegression())])\n",
      "Train Score = 0.002557638906477644\n",
      "Test Score = -0.017215223763378695\n",
      "Cross Val Score = -0.010641886204069362\n",
      "RMSE Train = 2.3332791579773127\n",
      "RMSE Test = 2.844216854015721\n",
      "\n",
      "\n",
      "DECISION TREE\n",
      "Model = Pipeline(steps=[('TREE', DecisionTreeRegressor())])\n",
      "Train Score = 1.0\n",
      "Test Score = 0.4391541642137079\n",
      "Cross Val Score = 0.3409562882933181\n",
      "RMSE Train = 5.781549060871421e-17\n",
      "RMSE Test = 2.1119227562242266\n",
      "\n",
      "\n",
      "BAGGED TREE\n",
      "Model = Pipeline(steps=[('BAG', BaggingRegressor())])\n",
      "Train Score = 0.9339210083211935\n",
      "Test Score = 0.5847980948056399\n",
      "Cross Val Score = 0.5586511523659526\n",
      "RMSE Train = 0.6005573701293118\n",
      "RMSE Test = 1.8171297922452851\n",
      "\n",
      "\n",
      "RANDOM FOREST\n",
      "Model = Pipeline(steps=[('RAND', RandomForestRegressor())])\n",
      "Train Score = 0.9527757982062592\n",
      "Test Score = 0.5628013690628727\n",
      "Cross Val Score = 0.5910806645305878\n",
      "RMSE Train = 0.5076976000040625\n",
      "RMSE Test = 1.8646429205099164\n",
      "\n",
      "\n",
      "ADABOOST\n",
      "Model = Pipeline(steps=[('ADA', AdaBoostRegressor())])\n",
      "Train Score = 0.7039321260175\n",
      "Test Score = 0.44284028298024913\n",
      "Cross Val Score = 0.4332015520813147\n",
      "RMSE Train = 1.2712133349823382\n",
      "RMSE Test = 2.104971085130488\n",
      "\n",
      "\n",
      "KNN\n",
      "Model = Pipeline(steps=[('sc', StandardScaler()), ('KNN', KNeighborsRegressor())])\n",
      "Train Score = 0.6768203413543793\n",
      "Test Score = 0.5176598550687659\n",
      "Cross Val Score = 0.46546862273854045\n",
      "RMSE Train = 1.328142904263315\n",
      "RMSE Test = 1.9585424307681782\n",
      "\n",
      "\n",
      "LASSO\n",
      "Model = Pipeline(steps=[('sc', StandardScaler()), ('LASSO', LassoCV())])\n",
      "Train Score = 0.5709890793095509\n",
      "Test Score = 0.5443523691978893\n",
      "Cross Val Score = 0.4896473893888816\n",
      "RMSE Train = 1.5302309131172824\n",
      "RMSE Test = 1.9035787068268677\n",
      "\n",
      "\n",
      "RIDGE\n",
      "Model = Pipeline(steps=[('sc', StandardScaler()),\n",
      "                ('RIDGE', RidgeCV(alphas=array([ 0.1,  1. , 10. ])))])\n",
      "Train Score = 0.5853995314386292\n",
      "Test Score = 0.5377185159060325\n",
      "Cross Val Score = 0.4822469866758129\n",
      "RMSE Train = 1.5043112094812958\n",
      "RMSE Test = 1.9173859002182887\n",
      "\n",
      "\n"
     ]
    }
   ],
   "source": [
    "modelfunc(X, y)"
   ]
  },
  {
   "cell_type": "markdown",
   "id": "ce37374f-6f10-4ba7-808e-16265480f5ea",
   "metadata": {},
   "source": [
    "Again, Random Forest is produces the best results.\n",
    "\n",
    "Doing a GridSearch below to see if this can be increased at all from a cross val r2 score of .59."
   ]
  },
  {
   "cell_type": "code",
   "execution_count": 17,
   "id": "28059608-3e95-4178-9fde-48675fa71c93",
   "metadata": {},
   "outputs": [
    {
     "name": "stdout",
     "output_type": "stream",
     "text": [
      "Fitting 5 folds for each of 120 candidates, totalling 600 fits\n",
      "0.6006770707154129\n",
      "{'max_depth': None, 'max_features': 'auto', 'n_estimators': 125}\n"
     ]
    }
   ],
   "source": [
    "X_train, X_test, y_train, y_test = train_test_split(X, y, random_state = 42) \n",
    "\n",
    "rand = RandomForestRegressor()\n",
    "# rand.fit(X_train, y_train)\n",
    "\n",
    "params = {\n",
    "    'n_estimators': [75, 100, 125, 150, 175, 200],\n",
    "    'max_depth': [None, 3, 4, 5], \n",
    "    'max_features': ['auto', 'sqrt', 3, 4, 5]\n",
    "}\n",
    "gs = GridSearchCV(RandomForestRegressor(), \n",
    "                 param_grid = params, \n",
    "                 verbose = 1)\n",
    "\n",
    "gs.fit(X_train, y_train)\n",
    "print(gs.best_score_)\n",
    "print(gs.best_params_)"
   ]
  },
  {
   "cell_type": "code",
   "execution_count": 20,
   "id": "d637ed7b-724d-41dc-a596-7dee2526768d",
   "metadata": {},
   "outputs": [
    {
     "name": "stdout",
     "output_type": "stream",
     "text": [
      "Train Score = 0.9553702897452656\n",
      "Test Score = 0.5690826613688186\n",
      "Cross Val Score = 0.6024442218687008\n",
      "RMSE Train = 0.4935541762352067\n",
      "RMSE Test = 1.8511996711104641\n"
     ]
    }
   ],
   "source": [
    "rand = RandomForestRegressor(max_depth=None, max_features='auto', n_estimators = 125)\n",
    "rand.fit(X_train, y_train)\n",
    "y_pred_train = rand.predict(X_train)\n",
    "y_pred_test = rand.predict(X_test)\n",
    "trainscore = rand.score(X_train, y_train)\n",
    "testscore = rand.score(X_test, y_test)\n",
    "crossval = cross_val_score(rand, X_train, y_train).mean()\n",
    "rmsetr= np.sqrt(metrics.mean_squared_error(y_train, y_pred_train))\n",
    "rmsete = np.sqrt(metrics.mean_squared_error(y_test, y_pred_test))\n",
    "\n",
    "print (f'Train Score = {trainscore}')\n",
    "print (f'Test Score = {testscore}')\n",
    "print (f'Cross Val Score = {crossval}')\n",
    "print (f'RMSE Train = {rmsetr}')\n",
    "print (f'RMSE Test = {rmsete}')"
   ]
  },
  {
   "cell_type": "code",
   "execution_count": 45,
   "id": "3113b1ef-4283-40ec-80a7-5d7b088a0e4d",
   "metadata": {},
   "outputs": [
    {
     "data": {
      "text/html": [
       "<div>\n",
       "<style scoped>\n",
       "    .dataframe tbody tr th:only-of-type {\n",
       "        vertical-align: middle;\n",
       "    }\n",
       "\n",
       "    .dataframe tbody tr th {\n",
       "        vertical-align: top;\n",
       "    }\n",
       "\n",
       "    .dataframe thead th {\n",
       "        text-align: right;\n",
       "    }\n",
       "</style>\n",
       "<table border=\"1\" class=\"dataframe\">\n",
       "  <thead>\n",
       "    <tr style=\"text-align: right;\">\n",
       "      <th></th>\n",
       "      <th>Relative Importance</th>\n",
       "    </tr>\n",
       "  </thead>\n",
       "  <tbody>\n",
       "    <tr>\n",
       "      <th>GNI growth (annual %)</th>\n",
       "      <td>0.632466</td>\n",
       "    </tr>\n",
       "    <tr>\n",
       "      <th>Stateless persons</th>\n",
       "      <td>0.007078</td>\n",
       "    </tr>\n",
       "    <tr>\n",
       "      <th>Strength of legal rights index (0=weak to 12=strong)</th>\n",
       "      <td>0.017894</td>\n",
       "    </tr>\n",
       "    <tr>\n",
       "      <th>Adjusted savings: net national savings (current US$)</th>\n",
       "      <td>0.011982</td>\n",
       "    </tr>\n",
       "    <tr>\n",
       "      <th>Adjusted savings: particulate emission damage (current US$)</th>\n",
       "      <td>0.013362</td>\n",
       "    </tr>\n",
       "    <tr>\n",
       "      <th>Adolescent fertility rate (births per 1,000 women ages 15-19)</th>\n",
       "      <td>0.010588</td>\n",
       "    </tr>\n",
       "    <tr>\n",
       "      <th>Population growth (annual %)</th>\n",
       "      <td>0.010142</td>\n",
       "    </tr>\n",
       "    <tr>\n",
       "      <th>Unemployment, total (% of total labor force) (modeled ILO estimate)</th>\n",
       "      <td>0.017926</td>\n",
       "    </tr>\n",
       "    <tr>\n",
       "      <th>Fixed telephone subscriptions (per 100 people)</th>\n",
       "      <td>0.013881</td>\n",
       "    </tr>\n",
       "    <tr>\n",
       "      <th>Current health expenditure (% of GDP)</th>\n",
       "      <td>0.015250</td>\n",
       "    </tr>\n",
       "    <tr>\n",
       "      <th>Current health expenditure per capita (current US$)</th>\n",
       "      <td>0.013022</td>\n",
       "    </tr>\n",
       "    <tr>\n",
       "      <th>Domestic general government health expenditure per capita (current US$)</th>\n",
       "      <td>0.014260</td>\n",
       "    </tr>\n",
       "    <tr>\n",
       "      <th>Fixed broadband subscriptions (per 100 people)</th>\n",
       "      <td>0.017279</td>\n",
       "    </tr>\n",
       "    <tr>\n",
       "      <th>Domestic private health expenditure per capita (current US$)</th>\n",
       "      <td>0.039356</td>\n",
       "    </tr>\n",
       "    <tr>\n",
       "      <th>International tourism, expenditures (current US$)</th>\n",
       "      <td>0.030433</td>\n",
       "    </tr>\n",
       "    <tr>\n",
       "      <th>Refugees under UNHCR's mandate</th>\n",
       "      <td>0.008471</td>\n",
       "    </tr>\n",
       "    <tr>\n",
       "      <th>Asylum-seekers</th>\n",
       "      <td>0.018999</td>\n",
       "    </tr>\n",
       "    <tr>\n",
       "      <th>IDPs of concern to UNHCR</th>\n",
       "      <td>0.008599</td>\n",
       "    </tr>\n",
       "    <tr>\n",
       "      <th>Others of concern</th>\n",
       "      <td>0.005263</td>\n",
       "    </tr>\n",
       "    <tr>\n",
       "      <th>Ref and Asyl</th>\n",
       "      <td>0.006938</td>\n",
       "    </tr>\n",
       "    <tr>\n",
       "      <th>SUM REFUGEE</th>\n",
       "      <td>0.015658</td>\n",
       "    </tr>\n",
       "    <tr>\n",
       "      <th>Intl tourism expenditures recipts and asylum seekers</th>\n",
       "      <td>0.013920</td>\n",
       "    </tr>\n",
       "    <tr>\n",
       "      <th>Intl tourism expenditures receipts and military</th>\n",
       "      <td>0.014746</td>\n",
       "    </tr>\n",
       "    <tr>\n",
       "      <th>net inflows UN and refugee pop</th>\n",
       "      <td>0.027496</td>\n",
       "    </tr>\n",
       "    <tr>\n",
       "      <th>SUM REFUGEE and undernourishment</th>\n",
       "      <td>0.014991</td>\n",
       "    </tr>\n",
       "  </tbody>\n",
       "</table>\n",
       "</div>"
      ],
      "text/plain": [
       "                                                    Relative Importance\n",
       "GNI growth (annual %)                                          0.632466\n",
       "Stateless persons                                              0.007078\n",
       "Strength of legal rights index (0=weak to 12=st...             0.017894\n",
       "Adjusted savings: net national savings (current...             0.011982\n",
       "Adjusted savings: particulate emission damage (...             0.013362\n",
       "Adolescent fertility rate (births per 1,000 wom...             0.010588\n",
       "Population growth (annual %)                                   0.010142\n",
       "Unemployment, total (% of total labor force) (m...             0.017926\n",
       "Fixed telephone subscriptions (per 100 people)                 0.013881\n",
       "Current health expenditure (% of GDP)                          0.015250\n",
       "Current health expenditure per capita (current ...             0.013022\n",
       "Domestic general government health expenditure ...             0.014260\n",
       "Fixed broadband subscriptions (per 100 people)                 0.017279\n",
       "Domestic private health expenditure per capita ...             0.039356\n",
       "International tourism, expenditures (current US$)              0.030433\n",
       "Refugees under UNHCR's mandate                                 0.008471\n",
       "Asylum-seekers                                                 0.018999\n",
       "IDPs of concern to UNHCR                                       0.008599\n",
       "Others of concern                                              0.005263\n",
       "Ref and Asyl                                                   0.006938\n",
       "SUM REFUGEE                                                    0.015658\n",
       "Intl tourism expenditures recipts and asylum se...             0.013920\n",
       "Intl tourism expenditures receipts and military                0.014746\n",
       "net inflows UN and refugee pop                                 0.027496\n",
       "SUM REFUGEE and undernourishment                               0.014991"
      ]
     },
     "execution_count": 45,
     "metadata": {},
     "output_type": "execute_result"
    }
   ],
   "source": [
    "feat_imp = pd.DataFrame(rand.feature_importances_, \n",
    "          index=X_train.columns)\n",
    "feat_imp.sort_values(0, ascending = False)\n",
    "feat_imp.columns = ['Relative Importance']\n",
    "feat_imp"
   ]
  },
  {
   "cell_type": "code",
   "execution_count": 53,
   "id": "ca47dd98-7f10-4040-a64a-a6f4dfd05c97",
   "metadata": {},
   "outputs": [
    {
     "data": {
      "text/plain": [
       "1.0"
      ]
     },
     "execution_count": 53,
     "metadata": {},
     "output_type": "execute_result"
    }
   ],
   "source": [
    "feat_imp['Relative Importance'].sum()"
   ]
  },
  {
   "cell_type": "code",
   "execution_count": 55,
   "id": "84f1256b-1b25-41f5-b35f-1d1c3e04fb7f",
   "metadata": {},
   "outputs": [
    {
     "data": {
      "image/png": "[encoded data removed]",
      "text/plain": [
       "<Figure size 720x720 with 1 Axes>"
      ]
     },
     "metadata": {
      "needs_background": "light"
     },
     "output_type": "display_data"
    }
   ],
   "source": [
    "plt.rcParams[\"figure.figsize\"]=(10,10)\n",
    "feat_imp.sort_values('Relative Importance', ascending = True).plot(kind='barh',\n",
    "             legend = None, \n",
    "             color = '#04a7dd')\n",
    "plt.title('Feature Importance in Random Forest Model', fontdict = {'fontsize': 16})\n",
    "plt.xlabel('Percentage ', fontdict = {'fontsize': 12})\n",
    "plt.yticks(fontsize = 10)\n",
    "plt.ylabel('Feature', fontdict = {'fontsize': 12});"
   ]
  },
  {
   "cell_type": "markdown",
   "id": "2a2c4718-deff-4964-8429-b6bfd2bd8fef",
   "metadata": {},
   "source": [
    "The data above is heavily correlated to the GNI Growth %. Because this number is heavily correlated with GDP, which we are trying to predict. We will also instead look at the features without GNI and creat models in another notebook."
   ]
  },
  {
   "cell_type": "code",
   "execution_count": null,
   "id": "8a39410c-e980-4fce-a8cd-00d278d01b7e",
   "metadata": {},
   "outputs": [],
   "source": []
  }
 ],
 "metadata": {
  "kernelspec": {
   "display_name": "Python 3 (ipykernel)",
   "language": "python",
   "name": "python3"
  },
  "language_info": {
   "codemirror_mode": {
    "name": "ipython",
    "version": 3
   },
   "file_extension": ".py",
   "mimetype": "text/x-python",
   "name": "python",
   "nbconvert_exporter": "python",
   "pygments_lexer": "ipython3",
   "version": "3.9.7"
  }
 },
 "nbformat": 4,
 "nbformat_minor": 5
}
