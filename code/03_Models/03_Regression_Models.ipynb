{
 "cells": [
  {
   "cell_type": "markdown",
   "id": "4e51cbbc-8a7a-4249-9786-63a913187669",
   "metadata": {},
   "source": [
    "# Regression Models: \n",
    "### Predicting GDP Annual Change.\n",
    "---\n",
    "Imports"
   ]
  },
  {
   "cell_type": "code",
   "execution_count": 1,
   "id": "7c6aaf67-8e85-4fa3-a4e6-ac75073f2604",
   "metadata": {},
   "outputs": [],
   "source": [
    "import pandas as pd\n",
    "import numpy as np\n",
    "import matplotlib.pyplot as plt\n",
    "import seaborn as sns\n",
    "import sklearn.metrics as metrics\n",
    "\n",
    "from sklearn.model_selection import train_test_split, cross_val_score, GridSearchCV, RandomizedSearchCV\n",
    "\n",
    "from sklearn.pipeline import Pipeline\n",
    "from sklearn.neighbors import KNeighborsRegressor\n",
    "from sklearn.preprocessing import StandardScaler, PolynomialFeatures\n",
    "\n",
    "from sklearn.linear_model import LinearRegression, Lasso, LassoCV, Ridge, RidgeCV\n",
    "from sklearn.ensemble import AdaBoostRegressor, RandomForestRegressor, BaggingRegressor\n",
    "from sklearn.tree import DecisionTreeRegressor\n",
    "from sklearn.decomposition import PCA"
   ]
  },
  {
   "cell_type": "code",
   "execution_count": 2,
   "id": "f69e6a2c-3d12-46be-b676-4e15cefd777d",
   "metadata": {},
   "outputs": [],
   "source": [
    "pd.options.display.max_columns = 999\n",
    "pd.options.display.max_rows = 999"
   ]
  },
  {
   "cell_type": "markdown",
   "id": "d960f643-d231-4060-8dd9-2b6954eed12f",
   "metadata": {},
   "source": [
    "Read in Data"
   ]
  },
  {
   "cell_type": "code",
   "execution_count": 3,
   "id": "f41c5540-6e57-41d6-a3fd-f7cc897853bb",
   "metadata": {},
   "outputs": [],
   "source": [
    "df = pd.read_csv('../../data/data_feat_engin.csv')"
   ]
  },
  {
   "cell_type": "markdown",
   "id": "43e368d0-d08f-4fb7-bfda-5e62cedaf32e",
   "metadata": {},
   "source": [
    "Look at columns for features."
   ]
  },
  {
   "cell_type": "code",
   "execution_count": 4,
   "id": "dae6bc35-3627-4670-9240-fdecdc477cbb",
   "metadata": {},
   "outputs": [
    {
     "data": {
      "text/plain": [
       "Index(['Year', 'Country', 'Refugees under UNHCR's mandate', 'Asylum-seekers',\n",
       "       'IDPs of concern to UNHCR', 'Stateless persons', 'Others of concern',\n",
       "       'Ref and Asyl', 'SUM REFUGEE', 'GDP_annual_change',\n",
       "       'Adjusted savings: net national savings (current US$)',\n",
       "       'Adjusted savings: particulate emission damage (current US$)',\n",
       "       'Adolescent fertility rate (births per 1,000 women ages 15-19)',\n",
       "       'Air transport, passengers carried',\n",
       "       'Current health expenditure (% of GDP)',\n",
       "       'Current health expenditure per capita (current US$)',\n",
       "       'Death rate, crude (per 1,000 people)',\n",
       "       'Domestic general government health expenditure per capita (current US$)',\n",
       "       'Domestic private health expenditure per capita (current US$)',\n",
       "       'Ease of doing business score (0 = lowest performance to 100 = best performance)',\n",
       "       'Fixed broadband subscriptions (per 100 people)',\n",
       "       'Fixed telephone subscriptions (per 100 people)',\n",
       "       'GNI growth (annual %)',\n",
       "       'International tourism, expenditures (current US$)',\n",
       "       'International tourism, receipts (current US$)',\n",
       "       'Military expenditure (current USD)', 'Population growth (annual %)',\n",
       "       'Prevalence of undernourishment (% of population)',\n",
       "       'Refugee population by country or territory of asylum',\n",
       "       'Strength of legal rights index (0=weak to 12=strong)',\n",
       "       'Unemployment, total (% of total labor force) (modeled ILO estimate)',\n",
       "       'Net official flows from UN agencies: Total', 'Country / Economy',\n",
       "       'Region', 'Income',\n",
       "       'Intl tourism expenditures recipts and asylum seekers',\n",
       "       'Intl tourism expenditures receipts and military',\n",
       "       'net inflows UN and refugee pop', 'SUM REFUGEE and undernourishment'],\n",
       "      dtype='object')"
      ]
     },
     "execution_count": 4,
     "metadata": {},
     "output_type": "execute_result"
    }
   ],
   "source": [
    "df.columns"
   ]
  },
  {
   "cell_type": "markdown",
   "id": "d486507f-7fc8-4b8c-8209-0fb6e81e650d",
   "metadata": {},
   "source": [
    "## Null Model\n",
    "---"
   ]
  },
  {
   "cell_type": "code",
   "execution_count": 5,
   "id": "9da7615b-e307-44dd-a7c2-669f7169db44",
   "metadata": {},
   "outputs": [
    {
     "data": {
      "text/plain": [
       "2.4666729263695077"
      ]
     },
     "execution_count": 5,
     "metadata": {},
     "output_type": "execute_result"
    }
   ],
   "source": [
    "df['base'] = df['GDP_annual_change'].mean()\n",
    "RMSE = np.sqrt(metrics.mean_squared_error(df['GDP_annual_change'], df['base']))\n",
    "RMSE"
   ]
  },
  {
   "cell_type": "markdown",
   "id": "71596b8e-9e26-46c8-b049-e82c7fd10b2b",
   "metadata": {},
   "source": [
    "The Baseline model has a Root Mean Squared Error of 2.47%. On average the predicted GDP Annual Change is about \\\\2.47% off from the true sales price."
   ]
  },
  {
   "cell_type": "markdown",
   "id": "084953a5-3a6d-4228-8420-c5c53df389e5",
   "metadata": {},
   "source": [
    "## Regression Pipelines\n",
    "---\n",
    "Will first look at all columns, not including feature engineering, and feed into a function for the various regression models. Interpretability will be important with this project, so it will be necessary to keep that in mind as a model is chosen to move forward."
   ]
  },
  {
   "cell_type": "code",
   "execution_count": 6,
   "id": "fff8eff4-9419-44e2-82b0-b41c7471a3b8",
   "metadata": {},
   "outputs": [],
   "source": [
    "features = [\"Refugees under UNHCR's mandate\", \n",
    "            'Asylum-seekers',\n",
    "            'IDPs of concern to UNHCR', \n",
    "            'Stateless persons', \n",
    "            'Others of concern',\n",
    "            'Ref and Asyl', \n",
    "            'SUM REFUGEE',\n",
    "            'Adjusted savings: net national savings (current US$)',\n",
    "            'Adjusted savings: particulate emission damage (current US$)',\n",
    "            'Adolescent fertility rate (births per 1,000 women ages 15-19)',\n",
    "            'Air transport, passengers carried',\n",
    "            'Current health expenditure (% of GDP)',\n",
    "            'Current health expenditure per capita (current US$)',\n",
    "            'Death rate, crude (per 1,000 people)',\n",
    "            'Domestic general government health expenditure per capita (current US$)',\n",
    "            'Domestic private health expenditure per capita (current US$)',\n",
    "            'Ease of doing business score (0 = lowest performance to 100 = best performance)',\n",
    "            'Fixed broadband subscriptions (per 100 people)',\n",
    "            'Fixed telephone subscriptions (per 100 people)',\n",
    "            'GNI growth (annual %)',\n",
    "            'International tourism, expenditures (current US$)',\n",
    "            'International tourism, receipts (current US$)',\n",
    "            'Military expenditure (current USD)', 'Population growth (annual %)',\n",
    "            'Prevalence of undernourishment (% of population)',\n",
    "            'Refugee population by country or territory of asylum',\n",
    "            'Strength of legal rights index (0=weak to 12=strong)',\n",
    "            'Unemployment, total (% of total labor force) (modeled ILO estimate)',\n",
    "            'Net official flows from UN agencies: Total'\n",
    "           ]"
   ]
  },
  {
   "cell_type": "code",
   "execution_count": 7,
   "id": "0d9ff379-a162-4857-bf42-f58980faa56c",
   "metadata": {
    "tags": []
   },
   "outputs": [],
   "source": [
    "X = df[features]\n",
    "y = df['GDP_annual_change']"
   ]
  },
  {
   "cell_type": "code",
   "execution_count": 8,
   "id": "28ff2f42-d04f-46ea-a97d-ecf57047b8a0",
   "metadata": {},
   "outputs": [],
   "source": [
    "def modelfunc(X, y):\n",
    "    pipelines = [\n",
    "        ('LINEAR REGRESSION', (Pipeline([ ('LR', LinearRegression())]))),\n",
    "        ('DECISION TREE', (Pipeline([ ('TREE', DecisionTreeRegressor())]))),\n",
    "        ('BAGGED TREE', (Pipeline([ ('BAG', BaggingRegressor())]))),\n",
    "        ('RANDOM FOREST', (Pipeline([ ('RAND', RandomForestRegressor())]))),\n",
    "        ('ADABOOST', (Pipeline([ ('ADA', AdaBoostRegressor())]))),\n",
    "        ('KNN', (Pipeline([ ('sc', StandardScaler()),('KNN', KNeighborsRegressor())]))),\n",
    "        ('LASSO',(Pipeline([ ('sc', StandardScaler()),('LASSO', LassoCV())]))),\n",
    "        ('RIDGE',(Pipeline([ ('sc', StandardScaler()),('RIDGE', RidgeCV())])))\n",
    "    ]\n",
    "    X_train, X_test, y_train, y_test = train_test_split(X, y, random_state = 42) \n",
    "    for pipe_name ,model in pipelines:\n",
    "        print(pipe_name)\n",
    "        model.fit(X_train, y_train)\n",
    "        y_pred_train = model.predict(X_train)\n",
    "        y_pred_test = model.predict(X_test)\n",
    "        trainscore = model.score(X_train, y_train)\n",
    "        testscore = model.score(X_test, y_test)\n",
    "        crossval = cross_val_score(model, X_train, y_train).mean()\n",
    "        rmsetr= np.sqrt(metrics.mean_squared_error(y_train, y_pred_train))\n",
    "        rmsete = np.sqrt(metrics.mean_squared_error(y_test, y_pred_test))\n",
    "        print (f'Model = {model}')\n",
    "        print (f'Train Score = {trainscore}')\n",
    "        print (f'Test Score = {testscore}')\n",
    "        print (f'Cross Val Score = {crossval}')\n",
    "        print (f'RMSE Train = {rmsetr}')\n",
    "        print (f'RMSE Test = {rmsete}')\n",
    "        print('')\n",
    "        print('')"
   ]
  },
  {
   "cell_type": "code",
   "execution_count": 9,
   "id": "1b1873f2-356a-4bc3-bd7d-ddaa1eba1e19",
   "metadata": {},
   "outputs": [
    {
     "name": "stdout",
     "output_type": "stream",
     "text": [
      "LINEAR REGRESSION\n",
      "Model = Pipeline(steps=[('LR', LinearRegression())])\n",
      "Train Score = 0.5840815091198508\n",
      "Test Score = 0.5543266541444651\n",
      "Cross Val Score = 0.48571910010912883\n",
      "RMSE Train = 1.628465335894157\n",
      "RMSE Test = 1.5240839913050004\n",
      "\n",
      "\n",
      "DECISION TREE\n",
      "Model = Pipeline(steps=[('TREE', DecisionTreeRegressor())])\n",
      "Train Score = 1.0\n",
      "Test Score = 0.45149733872935605\n",
      "Cross Val Score = 0.2909406060438142\n",
      "RMSE Train = 5.781549060871421e-17\n",
      "RMSE Test = 1.6907910499496495\n",
      "\n",
      "\n",
      "BAGGED TREE\n",
      "Model = Pipeline(steps=[('BAG', BaggingRegressor())])\n",
      "Train Score = 0.9309785532871824\n",
      "Test Score = 0.6745732158267024\n",
      "Cross Val Score = 0.5146423401445237\n",
      "RMSE Train = 0.6633862003221883\n",
      "RMSE Test = 1.302348511557629\n",
      "\n",
      "\n",
      "RANDOM FOREST\n",
      "Model = Pipeline(steps=[('RAND', RandomForestRegressor())])\n",
      "Train Score = 0.9452098065675193\n",
      "Test Score = 0.740571813394214\n",
      "Cross Val Score = 0.5719595255854927\n",
      "RMSE Train = 0.5910521765645292\n",
      "RMSE Test = 1.1628110515193768\n",
      "\n",
      "\n",
      "ADABOOST\n",
      "Model = Pipeline(steps=[('ADA', AdaBoostRegressor())])\n",
      "Train Score = 0.7676444797929252\n",
      "Test Score = 0.6722531099000641\n",
      "Cross Val Score = 0.5076129790373208\n",
      "RMSE Train = 1.2171690523748357\n",
      "RMSE Test = 1.3069827645078163\n",
      "\n",
      "\n",
      "KNN\n",
      "Model = Pipeline(steps=[('sc', StandardScaler()), ('KNN', KNeighborsRegressor())])\n",
      "Train Score = 0.6815608696173796\n",
      "Test Score = 0.5799962246933688\n",
      "Cross Val Score = 0.45224778368312324\n",
      "RMSE Train = 1.4249106050176326\n",
      "RMSE Test = 1.4795415563099303\n",
      "\n",
      "\n",
      "LASSO\n",
      "Model = Pipeline(steps=[('sc', StandardScaler()), ('LASSO', LassoCV())])\n",
      "Train Score = 0.568956160147027\n",
      "Test Score = 0.5746440297965922\n",
      "Cross Val Score = 0.5178736482992139\n",
      "RMSE Train = 1.6578114145650071\n",
      "RMSE Test = 1.4889387653279063\n",
      "\n",
      "\n",
      "RIDGE\n",
      "Model = Pipeline(steps=[('sc', StandardScaler()),\n",
      "                ('RIDGE', RidgeCV(alphas=array([ 0.1,  1. , 10. ])))])\n",
      "Train Score = 0.5835173429675867\n",
      "Test Score = 0.5569728691010976\n",
      "Cross Val Score = 0.5002543832122489\n",
      "RMSE Train = 1.6295694148259003\n",
      "RMSE Test = 1.519552580170894\n",
      "\n",
      "\n"
     ]
    }
   ],
   "source": [
    "modelfunc(X, y)"
   ]
  },
  {
   "cell_type": "markdown",
   "id": "24bea2d5-79ef-4d9e-b4cf-68c9221a1ace",
   "metadata": {},
   "source": [
    "### Random Forest performed the best according to the function above. Dig into it with some tuning below."
   ]
  },
  {
   "cell_type": "code",
   "execution_count": 10,
   "id": "1191e12e-d621-4a62-8bca-25120112e278",
   "metadata": {},
   "outputs": [
    {
     "name": "stdout",
     "output_type": "stream",
     "text": [
      "Fitting 5 folds for each of 60 candidates, totalling 300 fits\n",
      "0.582186778171328\n",
      "{'max_depth': None, 'max_features': 5, 'n_estimators': 100}\n"
     ]
    }
   ],
   "source": [
    "X_train, X_test, y_train, y_test = train_test_split(X, y, random_state = 42) \n",
    "\n",
    "rand = RandomForestRegressor()\n",
    "# rand.fit(X_train, y_train)\n",
    "\n",
    "params = {\n",
    "    'n_estimators': [75, 100, 125],\n",
    "    'max_depth': [None, 3, 4, 5], \n",
    "    'max_features': ['auto', 'sqrt', 3, 4, 5]\n",
    "}\n",
    "gs = GridSearchCV(RandomForestRegressor(), \n",
    "                 param_grid = params, \n",
    "                 verbose = 1)\n",
    "\n",
    "gs.fit(X_train, y_train)\n",
    "print(gs.best_score_)\n",
    "print(gs.best_params_)\n",
    "\n"
   ]
  },
  {
   "cell_type": "markdown",
   "id": "3a65856a-d5d2-4a43-818c-440d78c91403",
   "metadata": {},
   "source": [
    "## Below Changing features and running through the same function.\n",
    "---\n",
    "Adding engineered features."
   ]
  },
  {
   "cell_type": "code",
   "execution_count": 7,
   "id": "6a92d9ed-5b4c-4195-a8a7-2f8d44e3d7aa",
   "metadata": {},
   "outputs": [],
   "source": [
    "features = [\"Refugees under UNHCR's mandate\", \n",
    "            'Asylum-seekers',\n",
    "            'IDPs of concern to UNHCR', \n",
    "            'Stateless persons', \n",
    "            'Others of concern',\n",
    "            'Ref and Asyl', \n",
    "            'SUM REFUGEE',\n",
    "            'Adjusted savings: net national savings (current US$)',\n",
    "            'Adjusted savings: particulate emission damage (current US$)',\n",
    "            'Adolescent fertility rate (births per 1,000 women ages 15-19)',\n",
    "            'Air transport, passengers carried',\n",
    "            'Current health expenditure (% of GDP)',\n",
    "            'Current health expenditure per capita (current US$)',\n",
    "            'Death rate, crude (per 1,000 people)',\n",
    "            'Domestic general government health expenditure per capita (current US$)',\n",
    "            'Domestic private health expenditure per capita (current US$)',\n",
    "            'Ease of doing business score (0 = lowest performance to 100 = best performance)',\n",
    "            'Fixed broadband subscriptions (per 100 people)',\n",
    "            'Fixed telephone subscriptions (per 100 people)',\n",
    "            'GNI growth (annual %)',\n",
    "            'International tourism, expenditures (current US$)',\n",
    "            'International tourism, receipts (current US$)',\n",
    "            'Military expenditure (current USD)', 'Population growth (annual %)',\n",
    "            'Prevalence of undernourishment (% of population)',\n",
    "            'Refugee population by country or territory of asylum',\n",
    "            'Strength of legal rights index (0=weak to 12=strong)',\n",
    "            'Unemployment, total (% of total labor force) (modeled ILO estimate)',\n",
    "            'Net official flows from UN agencies: Total', \n",
    "            'Intl tourism expenditures recipts and asylum seekers', \n",
    "            'Intl tourism expenditures receipts and military',\n",
    "            'net inflows UN and refugee pop', \n",
    "            'SUM REFUGEE and undernourishment'\n",
    "           ]"
   ]
  },
  {
   "cell_type": "code",
   "execution_count": 8,
   "id": "7e2c5326-5037-40d0-a776-8d66fbb0797b",
   "metadata": {
    "tags": []
   },
   "outputs": [],
   "source": [
    "X = df[features]\n",
    "y = df['GDP_annual_change']"
   ]
  },
  {
   "cell_type": "code",
   "execution_count": 10,
   "id": "a7caeca9-bb0e-420e-9309-78e6e93fd434",
   "metadata": {},
   "outputs": [
    {
     "name": "stdout",
     "output_type": "stream",
     "text": [
      "LINEAR REGRESSION\n",
      "Model = Pipeline(steps=[('LR', LinearRegression())])\n",
      "Train Score = 0.002557638906477644\n",
      "Test Score = -0.017215223763378917\n",
      "Cross Val Score = -0.009983658394374938\n",
      "RMSE Train = 2.3332791579773127\n",
      "RMSE Test = 2.844216854015721\n",
      "\n",
      "\n",
      "DECISION TREE\n",
      "Model = Pipeline(steps=[('TREE', DecisionTreeRegressor())])\n",
      "Train Score = 1.0\n",
      "Test Score = 0.38441750489709114\n",
      "Cross Val Score = 0.19975755776854878\n",
      "RMSE Train = 8.176345093409794e-17\n",
      "RMSE Test = 2.212582182463684\n",
      "\n",
      "\n",
      "BAGGED TREE\n",
      "Model = Pipeline(steps=[('BAG', BaggingRegressor())])\n",
      "Train Score = 0.937558295750739\n",
      "Test Score = 0.5176805071783713\n",
      "Cross Val Score = 0.5607979968547073\n",
      "RMSE Train = 0.583794731542818\n",
      "RMSE Test = 1.9585005013680008\n",
      "\n",
      "\n",
      "RANDOM FOREST\n",
      "Model = Pipeline(steps=[('RAND', RandomForestRegressor())])\n",
      "Train Score = 0.9509268605177158\n",
      "Test Score = 0.5738923196024415\n",
      "Cross Val Score = 0.605176729258368\n",
      "RMSE Train = 0.51754095033276\n",
      "RMSE Test = 1.8408396543279764\n",
      "\n",
      "\n",
      "ADABOOST\n",
      "Model = Pipeline(steps=[('ADA', AdaBoostRegressor())])\n",
      "Train Score = 0.6968661984486897\n",
      "Test Score = 0.48990987641192896\n",
      "Cross Val Score = 0.4607210437667083\n",
      "RMSE Train = 1.286293219671365\n",
      "RMSE Test = 2.014094007687503\n",
      "\n",
      "\n",
      "KNN\n",
      "Model = Pipeline(steps=[('sc', StandardScaler()), ('KNN', KNeighborsRegressor())])\n",
      "Train Score = 0.6650312735998563\n",
      "Test Score = 0.48596648078308424\n",
      "Cross Val Score = 0.3757610211729623\n",
      "RMSE Train = 1.3521501740891602\n",
      "RMSE Test = 2.021864280043906\n",
      "\n",
      "\n",
      "LASSO\n",
      "Model = Pipeline(steps=[('sc', StandardScaler()), ('LASSO', LassoCV())])\n",
      "Train Score = 0.5688394143724318\n",
      "Test Score = 0.5432205767738111\n",
      "Cross Val Score = 0.48942036471427636\n",
      "RMSE Train = 1.5340599221012121\n",
      "RMSE Test = 1.905941409492514\n",
      "\n",
      "\n",
      "RIDGE\n",
      "Model = Pipeline(steps=[('sc', StandardScaler()),\n",
      "                ('RIDGE', RidgeCV(alphas=array([ 0.1,  1. , 10. ])))])\n",
      "Train Score = 0.5880836554270774\n",
      "Test Score = 0.5354004400159624\n",
      "Cross Val Score = 0.4534477779613283\n",
      "RMSE Train = 1.4994338462573735\n",
      "RMSE Test = 1.9221871828458255\n",
      "\n",
      "\n"
     ]
    }
   ],
   "source": [
    "modelfunc(X, y)"
   ]
  },
  {
   "cell_type": "markdown",
   "id": "d8aaf863-18c5-4266-b371-a6f28bc3eb0d",
   "metadata": {},
   "source": [
    "Again, the Random Forest is performing the best. "
   ]
  },
  {
   "cell_type": "code",
   "execution_count": null,
   "id": "2ac0fabd-d9c7-4380-aea3-1785da582d1a",
   "metadata": {},
   "outputs": [],
   "source": []
  },
  {
   "cell_type": "code",
   "execution_count": null,
   "id": "f9265a62-9394-470b-a771-eae0ee6b0aa8",
   "metadata": {},
   "outputs": [],
   "source": []
  },
  {
   "cell_type": "markdown",
   "id": "b4a32666-4260-4ce0-9e9d-0ae3eb37c80a",
   "metadata": {},
   "source": [
    "## Changing Features again to look at those with the highest correlation.\n",
    "---"
   ]
  },
  {
   "cell_type": "code",
   "execution_count": 13,
   "id": "f6d90fbb-c2d4-498f-8707-c8d2682ca54d",
   "metadata": {},
   "outputs": [],
   "source": [
    "features = ['GNI growth (annual %)', \n",
    "            'Stateless persons',\n",
    "            'Strength of legal rights index (0=weak to 12=strong)',\n",
    "            'Adjusted savings: net national savings (current US$)',\n",
    "            'Adjusted savings: particulate emission damage (current US$)',\n",
    "            'Adolescent fertility rate (births per 1,000 women ages 15-19)',\n",
    "            'Population growth (annual %)', \n",
    "            'Unemployment, total (% of total labor force) (modeled ILO estimate)',\n",
    "            'Fixed telephone subscriptions (per 100 people)',\n",
    "            'Current health expenditure (% of GDP)',\n",
    "            'Current health expenditure per capita (current US$)',\n",
    "            'Domestic general government health expenditure per capita (current US$)',\n",
    "            'Fixed broadband subscriptions (per 100 people)',\n",
    "            'Domestic private health expenditure per capita (current US$)',\n",
    "            'International tourism, expenditures (current US$)',\n",
    "            \"Refugees under UNHCR's mandate\", \n",
    "            'Asylum-seekers',\n",
    "            'IDPs of concern to UNHCR', \n",
    "            'Others of concern',\n",
    "            'Ref and Asyl', \n",
    "            'SUM REFUGEE',\n",
    "            'Intl tourism expenditures recipts and asylum seekers', \n",
    "            'Intl tourism expenditures receipts and military',\n",
    "            'net inflows UN and refugee pop', \n",
    "            'SUM REFUGEE and undernourishment'\n",
    "           ]"
   ]
  },
  {
   "cell_type": "code",
   "execution_count": 14,
   "id": "f66619bb-d53d-4cfc-acd2-813440874ce7",
   "metadata": {},
   "outputs": [],
   "source": [
    "X = df[features]\n",
    "y = df['GDP_annual_change']"
   ]
  },
  {
   "cell_type": "code",
   "execution_count": 15,
   "id": "c5c3f816-39a0-4658-9c17-82e9a53653c6",
   "metadata": {},
   "outputs": [
    {
     "name": "stdout",
     "output_type": "stream",
     "text": [
      "LINEAR REGRESSION\n",
      "Model = Pipeline(steps=[('LR', LinearRegression())])\n",
      "Train Score = 0.002557638906477644\n",
      "Test Score = -0.017215223763378695\n",
      "Cross Val Score = -0.010641886204069362\n",
      "RMSE Train = 2.3332791579773127\n",
      "RMSE Test = 2.844216854015721\n",
      "\n",
      "\n",
      "DECISION TREE\n",
      "Model = Pipeline(steps=[('TREE', DecisionTreeRegressor())])\n",
      "Train Score = 1.0\n",
      "Test Score = 0.4303484964459777\n",
      "Cross Val Score = 0.32386643883881705\n",
      "RMSE Train = 8.176345093409794e-17\n",
      "RMSE Test = 2.1284375098613215\n",
      "\n",
      "\n",
      "BAGGED TREE\n",
      "Model = Pipeline(steps=[('BAG', BaggingRegressor())])\n",
      "Train Score = 0.9442624993137197\n",
      "Test Score = 0.5322415590101071\n",
      "Cross Val Score = 0.5590195461727404\n",
      "RMSE Train = 0.55156480045986\n",
      "RMSE Test = 1.9287107302222044\n",
      "\n",
      "\n",
      "RANDOM FOREST\n",
      "Model = Pipeline(steps=[('RAND', RandomForestRegressor())])\n",
      "Train Score = 0.9555223690941599\n",
      "Test Score = 0.5529658976379341\n",
      "Cross Val Score = 0.5959314541454466\n",
      "RMSE Train = 0.4927125457467094\n",
      "RMSE Test = 1.8855003068713019\n",
      "\n",
      "\n",
      "ADABOOST\n",
      "Model = Pipeline(steps=[('ADA', AdaBoostRegressor())])\n",
      "Train Score = 0.7217223403195917\n",
      "Test Score = 0.4667461500722305\n",
      "Cross Val Score = 0.4632948461018188\n",
      "RMSE Train = 1.2324291688378317\n",
      "RMSE Test = 2.059317356067247\n",
      "\n",
      "\n",
      "KNN\n",
      "Model = Pipeline(steps=[('sc', StandardScaler()), ('KNN', KNeighborsRegressor())])\n",
      "Train Score = 0.6768203413543793\n",
      "Test Score = 0.5176598550687659\n",
      "Cross Val Score = 0.46546862273854045\n",
      "RMSE Train = 1.328142904263315\n",
      "RMSE Test = 1.9585424307681782\n",
      "\n",
      "\n",
      "LASSO\n",
      "Model = Pipeline(steps=[('sc', StandardScaler()), ('LASSO', LassoCV())])\n",
      "Train Score = 0.5709890793095509\n",
      "Test Score = 0.5443523691978893\n",
      "Cross Val Score = 0.4896473893888816\n",
      "RMSE Train = 1.5302309131172824\n",
      "RMSE Test = 1.9035787068268677\n",
      "\n",
      "\n",
      "RIDGE\n",
      "Model = Pipeline(steps=[('sc', StandardScaler()),\n",
      "                ('RIDGE', RidgeCV(alphas=array([ 0.1,  1. , 10. ])))])\n",
      "Train Score = 0.5853995314386292\n",
      "Test Score = 0.5377185159060325\n",
      "Cross Val Score = 0.4822469866758129\n",
      "RMSE Train = 1.5043112094812958\n",
      "RMSE Test = 1.9173859002182887\n",
      "\n",
      "\n"
     ]
    }
   ],
   "source": [
    "modelfunc(X, y)"
   ]
  },
  {
   "cell_type": "markdown",
   "id": "ce37374f-6f10-4ba7-808e-16265480f5ea",
   "metadata": {},
   "source": [
    "Again, Random Forest is produces the best results.\n",
    "\n",
    "Doing a GridSearch below to see if this can be increased at all from a cross val r2 score of .59."
   ]
  },
  {
   "cell_type": "code",
   "execution_count": 17,
   "id": "28059608-3e95-4178-9fde-48675fa71c93",
   "metadata": {},
   "outputs": [
    {
     "name": "stdout",
     "output_type": "stream",
     "text": [
      "Fitting 5 folds for each of 120 candidates, totalling 600 fits\n",
      "0.6063038257293292\n",
      "{'max_depth': None, 'max_features': 'auto', 'n_estimators': 100}\n"
     ]
    }
   ],
   "source": [
    "X_train, X_test, y_train, y_test = train_test_split(X, y, random_state = 42) \n",
    "\n",
    "rand = RandomForestRegressor()\n",
    "# rand.fit(X_train, y_train)\n",
    "\n",
    "params = {\n",
    "    'n_estimators': [75, 100, 125, 150, 175, 200],\n",
    "    'max_depth': [None, 3, 4, 5], \n",
    "    'max_features': ['auto', 'sqrt', 3, 4, 5]\n",
    "}\n",
    "gs = GridSearchCV(RandomForestRegressor(), \n",
    "                 param_grid = params, \n",
    "                 verbose = 1)\n",
    "\n",
    "gs.fit(X_train, y_train)\n",
    "print(gs.best_score_)\n",
    "print(gs.best_params_)"
   ]
  },
  {
   "cell_type": "code",
   "execution_count": 21,
   "id": "d637ed7b-724d-41dc-a596-7dee2526768d",
   "metadata": {},
   "outputs": [
    {
     "name": "stdout",
     "output_type": "stream",
     "text": [
      "Train Score = 0.9501705708913177\n",
      "Test Score = 0.5706035408117434\n",
      "Cross Val Score = 0.5878368358283506\n",
      "RMSE Train = 0.5215137377991703\n",
      "RMSE Test = 1.8479299719375515\n"
     ]
    }
   ],
   "source": [
    "rand = RandomForestRegressor(n_estimators=100, max_depth=None, max_features='auto')\n",
    "rand.fit(X_train, y_train)\n",
    "y_pred_train = rand.predict(X_train)\n",
    "y_pred_test = rand.predict(X_test)\n",
    "trainscore = rand.score(X_train, y_train)\n",
    "testscore = rand.score(X_test, y_test)\n",
    "crossval = cross_val_score(rand, X_train, y_train).mean()\n",
    "rmsetr= np.sqrt(metrics.mean_squared_error(y_train, y_pred_train))\n",
    "rmsete = np.sqrt(metrics.mean_squared_error(y_test, y_pred_test))\n",
    "\n",
    "print (f'Train Score = {trainscore}')\n",
    "print (f'Test Score = {testscore}')\n",
    "print (f'Cross Val Score = {crossval}')\n",
    "print (f'RMSE Train = {rmsetr}')\n",
    "print (f'RMSE Test = {rmsete}')"
   ]
  },
  {
   "cell_type": "code",
   "execution_count": 18,
   "id": "3113b1ef-4283-40ec-80a7-5d7b088a0e4d",
   "metadata": {},
   "outputs": [
    {
     "ename": "NameError",
     "evalue": "name 'rf_feat_importance' is not defined",
     "output_type": "error",
     "traceback": [
      "\u001b[0;31m---------------------------------------------------------------------------\u001b[0m",
      "\u001b[0;31mNameError\u001b[0m                                 Traceback (most recent call last)",
      "\u001b[0;32m/var/folders/8c/d71xvtx971706d0ttvg_stb80000gn/T/ipykernel_91770/2825326441.py\u001b[0m in \u001b[0;36m<module>\u001b[0;34m\u001b[0m\n\u001b[0;32m----> 1\u001b[0;31m \u001b[0mfi\u001b[0m \u001b[0;34m=\u001b[0m \u001b[0mrf_feat_importance\u001b[0m\u001b[0;34m(\u001b[0m\u001b[0mgs\u001b[0m\u001b[0;34m,\u001b[0m \u001b[0mX\u001b[0m\u001b[0;34m)\u001b[0m\u001b[0;34m\u001b[0m\u001b[0;34m\u001b[0m\u001b[0m\n\u001b[0m\u001b[1;32m      2\u001b[0m \u001b[0mfi\u001b[0m\u001b[0;34m[\u001b[0m\u001b[0;34m:\u001b[0m\u001b[0;36m10\u001b[0m\u001b[0;34m]\u001b[0m\u001b[0;34m\u001b[0m\u001b[0;34m\u001b[0m\u001b[0m\n",
      "\u001b[0;31mNameError\u001b[0m: name 'rf_feat_importance' is not defined"
     ]
    }
   ],
   "source": [
    "feat_import = rf_feat_importance(gs, X)\n",
    "feat_import[:10]"
   ]
  },
  {
   "cell_type": "markdown",
   "id": "17ca2273-7808-4d59-a053-3c6bb2cdc6ba",
   "metadata": {},
   "source": [
    "## PCA\n",
    "---"
   ]
  },
  {
   "cell_type": "code",
   "execution_count": 24,
   "id": "f07df3d7-833c-4fd7-bd56-5db52059925c",
   "metadata": {},
   "outputs": [],
   "source": [
    "X_train, X_test, y_train, y_test = train_test_split(X,\n",
    "                                                    y,\n",
    "                                                    # stratify=y,\n",
    "                                                    random_state = 42)"
   ]
  },
  {
   "cell_type": "code",
   "execution_count": 25,
   "id": "a8c6158b-90c3-4b58-903a-9cad49fa8b44",
   "metadata": {},
   "outputs": [
    {
     "data": {
      "text/plain": [
       "PCA(n_components=20)"
      ]
     },
     "execution_count": 25,
     "metadata": {},
     "output_type": "execute_result"
    }
   ],
   "source": [
    "# Instantiate PCA with 20 components.\n",
    "pca = PCA(n_components=20)\n",
    "\n",
    "# Fit PCA to training data.\n",
    "pca.fit(X_train)"
   ]
  },
  {
   "cell_type": "code",
   "execution_count": 29,
   "id": "e5c7eea3-518d-4a60-9d9b-c30f324f9433",
   "metadata": {},
   "outputs": [
    {
     "name": "stdout",
     "output_type": "stream",
     "text": [
      "Training Score: 0.1403\n",
      "Testing Score: 0.089\n",
      "Train Cross Val; : -0.0071\n",
      "Test Cross Val; : -0.8063\n"
     ]
    }
   ],
   "source": [
    "# Instantiate linear regression model.\n",
    "lr = LinearRegression()\n",
    "\n",
    "# Transform Z_train and Z_test.\n",
    "Z_train = pca.transform(X_train)\n",
    "Z_test = pca.transform(X_test)\n",
    "\n",
    "# Fit on Z_train.\n",
    "\n",
    "lr.fit(Z_train, y_train)\n",
    "\n",
    "# Score on training and testing sets.\n",
    "print(f'Training Score: {round(lr.score(Z_train, y_train),4)}')\n",
    "print(f'Testing Score: {round(lr.score(Z_test, y_test),4)}')\n",
    "print(f'Train Cross Val; : {round(cross_val_score(lr,Z_train, y_train).mean(),4  )}')\n",
    "print(f'Test Cross Val; : {round(cross_val_score(lr,Z_test, y_test).mean(),4  )}')"
   ]
  },
  {
   "cell_type": "markdown",
   "id": "9d6797db-d888-4c45-8823-db2acd002874",
   "metadata": {},
   "source": [
    "## Stacking\n",
    "---"
   ]
  },
  {
   "cell_type": "code",
   "execution_count": null,
   "id": "e09d371b-305a-4400-ab8b-1e4c6c9528c0",
   "metadata": {},
   "outputs": [],
   "source": [
    "#X_train, X_test, y_train, y_test = train_test_split(X, y, stratify = y, random_state=42)"
   ]
  },
  {
   "cell_type": "code",
   "execution_count": null,
   "id": "42be4601-997b-4e45-b161-e824ce026fa6",
   "metadata": {},
   "outputs": [],
   "source": [
    "level1_models = [\n",
    "    ('GRAD', GradientBoostingClassifier()),\n",
    "    ('ADA', AdaBoostClassifier()),\n",
    "    ('LR', LinearRegression())\n",
    "]\n",
    "\n",
    "\n",
    "stack = StackingClassifier(estimators = level1_models, final_estimator = LinearRegression())\n",
    "\n",
    "\n",
    "stack.fit(X_train, y_train)\n",
    "trainscore = stack.score(X_train, y_train)\n",
    "testscore = stack.score(X_test, y_test)\n",
    "crossval = cross_val_score(stack, X_train, y_train).mean()\n",
    "y_pred_train = stack.predict(X_train)\n",
    "y_pred_test = stack.predict(X_test)\n",
    "mse_train = metrics.mean_squared_error(y_train, y_pred_train)\n",
    "mse_test = metrics.mean_absolute_error(y_test, y_pred_test)\n",
    "\n",
    "\n",
    "print(f'Train: {trainscore}, Test: {testscore}, CV: {crossval}')\n",
    "print (f'Mean Squared Error - Train = {mse_train}')\n",
    "print (f'Mean Squared Error - Test = {mse_test}')"
   ]
  }
 ],
 "metadata": {
  "kernelspec": {
   "display_name": "Python 3 (ipykernel)",
   "language": "python",
   "name": "python3"
  },
  "language_info": {
   "codemirror_mode": {
    "name": "ipython",
    "version": 3
   },
   "file_extension": ".py",
   "mimetype": "text/x-python",
   "name": "python",
   "nbconvert_exporter": "python",
   "pygments_lexer": "ipython3",
   "version": "3.9.7"
  }
 },
 "nbformat": 4,
 "nbformat_minor": 5
}
