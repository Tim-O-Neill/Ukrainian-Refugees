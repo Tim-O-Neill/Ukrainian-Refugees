{
 "cells": [
  {
   "cell_type": "markdown",
   "id": "4e51cbbc-8a7a-4249-9786-63a913187669",
   "metadata": {},
   "source": [
    "# Regression Models: \n",
    "### Looking for numeric predictors of Countries that take in Refugees\n",
    "---\n",
    "Imports"
   ]
  },
  {
   "cell_type": "code",
   "execution_count": 5,
   "id": "7c6aaf67-8e85-4fa3-a4e6-ac75073f2604",
   "metadata": {},
   "outputs": [],
   "source": [
    "import pandas as pd\n",
    "import numpy as np\n",
    "import matplotlib.pyplot as plt\n",
    "import seaborn as sns\n",
    "import sklearn.metrics as metrics\n",
    "\n",
    "from sklearn.model_selection import train_test_split, cross_val_score, GridSearchCV, RandomizedSearchCV\n",
    "\n",
    "from sklearn.pipeline import Pipeline\n",
    "from sklearn.neighbors import KNeighborsRegressor\n",
    "from sklearn.preprocessing import StandardScaler, PolynomialFeatures\n",
    "\n",
    "from sklearn.linear_model import LinearRegression, Lasso, LassoCV, Ridge, RidgeCV\n",
    "from sklearn.ensemble import AdaBoostRegressor, RandomForestRegressor, BaggingRegressor\n",
    "from sklearn.tree import DecisionTreeRegressor\n",
    "from sklearn.decomposition import PCA"
   ]
  },
  {
   "cell_type": "code",
   "execution_count": 4,
   "id": "f69e6a2c-3d12-46be-b676-4e15cefd777d",
   "metadata": {},
   "outputs": [],
   "source": [
    "pd.options.display.max_columns = 999\n",
    "pd.options.display.max_rows = 999"
   ]
  },
  {
   "cell_type": "markdown",
   "id": "d960f643-d231-4060-8dd9-2b6954eed12f",
   "metadata": {},
   "source": [
    "Read in Data"
   ]
  },
  {
   "cell_type": "code",
   "execution_count": 7,
   "id": "f41c5540-6e57-41d6-a3fd-f7cc897853bb",
   "metadata": {},
   "outputs": [],
   "source": [
    "df = pd.read_csv('../../data/data_final.csv')"
   ]
  },
  {
   "cell_type": "markdown",
   "id": "43e368d0-d08f-4fb7-bfda-5e62cedaf32e",
   "metadata": {},
   "source": [
    "Set features & X and y"
   ]
  },
  {
   "cell_type": "code",
   "execution_count": 8,
   "id": "fff8eff4-9419-44e2-82b0-b41c7471a3b8",
   "metadata": {},
   "outputs": [],
   "source": [
    "features = []"
   ]
  },
  {
   "cell_type": "code",
   "execution_count": 10,
   "id": "0d9ff379-a162-4857-bf42-f58980faa56c",
   "metadata": {},
   "outputs": [],
   "source": [
    "X = df[features]\n",
    "#y = df[]"
   ]
  },
  {
   "cell_type": "markdown",
   "id": "084953a5-3a6d-4228-8420-c5c53df389e5",
   "metadata": {},
   "source": [
    "## Regression Pipelines\n",
    "---"
   ]
  },
  {
   "cell_type": "code",
   "execution_count": null,
   "id": "7f47535d-d09a-46ba-8e6d-65cc356f2271",
   "metadata": {},
   "outputs": [],
   "source": [
    "#X_train, X_test, y_train, y_test = train_test_split(X,\n",
    "                                                    y,\n",
    "                                                    # stratify=y,\n",
    "                                                    random_state = 42)"
   ]
  },
  {
   "cell_type": "code",
   "execution_count": null,
   "id": "28ff2f42-d04f-46ea-a97d-ecf57047b8a0",
   "metadata": {},
   "outputs": [],
   "source": [
    "models = {'lr': LinearRegression(),\n",
    "         'tree': DecisionTreeRegressor(),\n",
    "          'rand': RandomForestRegressor(), \n",
    "          'Bag': BaggingRegressor(),\n",
    "          'ada': AdaBoostRegressor()\n",
    "         }\n",
    "\n",
    "def modelfunc(X, y, model):\n",
    "    X_train, X_test, y_train, y_test = train_test_split(X, y, random_state = 42) \n",
    "    model = models[model]\n",
    "    model.fit(X_train, y_train)\n",
    "    y_pred_train = model.predict(X_train)\n",
    "    y_pred_test = model.predict(X_test)\n",
    "    trainscore = model.score(X_train, y_train)\n",
    "    testscore = model.score(X_test, y_test)\n",
    "    crossval = cross_val_score(model, X_train, y_train).mean()\n",
    "    rmsetr= np.sqrt(metrics.mean_squared_error(y_train, y_pred_train))\n",
    "    rmsete = np.sqrt(metrics.mean_squared_error(y_test, y_pred_test))\n",
    "    print (f'Model = {model}')\n",
    "    print (f'Train Score = {trainscore}')\n",
    "    print (f'Test Score = {testscore}')\n",
    "    print (f'Cross Val Score = {crossval}')\n",
    "    print (f'RMSE Train = {rmsetr}')\n",
    "    print (f'RMSE Test = {rmsete}')"
   ]
  },
  {
   "cell_type": "markdown",
   "id": "17ca2273-7808-4d59-a053-3c6bb2cdc6ba",
   "metadata": {},
   "source": [
    "## PCA\n",
    "---"
   ]
  },
  {
   "cell_type": "code",
   "execution_count": null,
   "id": "f07df3d7-833c-4fd7-bd56-5db52059925c",
   "metadata": {},
   "outputs": [],
   "source": [
    "#X_train, X_test, y_train, y_test = train_test_split(X,\n",
    "                                                    y,\n",
    "                                                    # stratify=y,\n",
    "                                                    random_state = 42)"
   ]
  },
  {
   "cell_type": "code",
   "execution_count": null,
   "id": "a8c6158b-90c3-4b58-903a-9cad49fa8b44",
   "metadata": {},
   "outputs": [],
   "source": [
    "# Instantiate PCA with 20 components.\n",
    "pca = PCA(n_components=20)\n",
    "\n",
    "# Fit PCA to training data.\n",
    "pca.fit(X_train)"
   ]
  },
  {
   "cell_type": "code",
   "execution_count": null,
   "id": "e5c7eea3-518d-4a60-9d9b-c30f324f9433",
   "metadata": {},
   "outputs": [],
   "source": [
    "# Instantiate linear regression model.\n",
    "lr = LogisticRegression( max_iter=1000, random_state=42)\n",
    "\n",
    "# Transform Z_train and Z_test.\n",
    "Z_train = pca.transform(X_train)\n",
    "Z_test = pca.transform(X_test)\n",
    "\n",
    "# Fit on Z_train.\n",
    "\n",
    "lr.fit(Z_train, y_train)\n",
    "\n",
    "# Score on training and testing sets.\n",
    "print(f'Training Score: {round(lr.score(Z_train, y_train),4)}')\n",
    "print(f'Testing Score: {round(lr.score(Z_test, y_test),4)}')\n",
    "print(f'Train Cross Val; : {round(cross_val_score(lr,Z_train, y_train).mean(),4  )}')\n",
    "print(f'Test Cross Val; : {round(cross_val_score(lr,Z_test, y_test).mean(),4  )}')"
   ]
  },
  {
   "cell_type": "markdown",
   "id": "9d6797db-d888-4c45-8823-db2acd002874",
   "metadata": {},
   "source": [
    "## Stacking\n",
    "---"
   ]
  },
  {
   "cell_type": "code",
   "execution_count": null,
   "id": "e09d371b-305a-4400-ab8b-1e4c6c9528c0",
   "metadata": {},
   "outputs": [],
   "source": [
    "#X_train, X_test, y_train, y_test = train_test_split(X, y, stratify = y, random_state=42)"
   ]
  },
  {
   "cell_type": "code",
   "execution_count": null,
   "id": "42be4601-997b-4e45-b161-e824ce026fa6",
   "metadata": {},
   "outputs": [],
   "source": [
    "level1_models = [\n",
    "    ('GRAD', GradientBoostingClassifier()),\n",
    "    ('ADA', AdaBoostClassifier()),\n",
    "    ('LR', LinearRegression())\n",
    "]\n",
    "\n",
    "\n",
    "stack = StackingClassifier(estimators = level1_models, final_estimator = LinearRegression())\n",
    "\n",
    "\n",
    "stack.fit(X_train, y_train)\n",
    "trainscore = stack.score(X_train, y_train)\n",
    "testscore = stack.score(X_test, y_test)\n",
    "crossval = cross_val_score(stack, X_train, y_train).mean()\n",
    "y_pred_train = stack.predict(X_train)\n",
    "y_pred_test = stack.predict(X_test)\n",
    "mse_train = metrics.mean_squared_error(y_train, y_pred_train)\n",
    "mse_test = metrics.mean_absolute_error(y_test, y_pred_test)\n",
    "\n",
    "\n",
    "print(f'Train: {trainscore}, Test: {testscore}, CV: {crossval}')\n",
    "print (f'Mean Squared Error - Train = {mse_train}')\n",
    "print (f'Mean Squared Error - Test = {mse_test}')"
   ]
  }
 ],
 "metadata": {
  "kernelspec": {
   "display_name": "Python 3 (ipykernel)",
   "language": "python",
   "name": "python3"
  },
  "language_info": {
   "codemirror_mode": {
    "name": "ipython",
    "version": 3
   },
   "file_extension": ".py",
   "mimetype": "text/x-python",
   "name": "python",
   "nbconvert_exporter": "python",
   "pygments_lexer": "ipython3",
   "version": "3.9.7"
  }
 },
 "nbformat": 4,
 "nbformat_minor": 5
}
